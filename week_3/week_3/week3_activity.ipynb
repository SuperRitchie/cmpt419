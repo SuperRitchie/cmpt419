{
  "cells": [
    {
      "cell_type": "markdown",
      "metadata": {
        "id": "qioXITGNPkUu"
      },
      "source": [
        "\n",
        "WEEK 3 ONLINE ACTIVITY\n",
        "---\n",
        "*Credit: Emma Hughson (former Affective Computing TA)*\n",
        "\n",
        "In this week's exercise we are going to run our own statistical analysis of a dataset. We will define our hypothesis and run various statistical tests to either provide evidence for or against our hypotheses.\n",
        "\n",
        "Each part has questions that you should answer. At the end of the exercise summarize all your findings on the discussion board for this exercise. Note any interesting questions or concerns that you may have developed throughout this exercise.\n",
        "\n",
        "After this activity, you will be able to:\n",
        "1. Develop hypotheses\n",
        "2. Calculate t-test\n",
        "3. Calculate ANOVA\n",
        "4. Understand correlations\n",
        "5. Know when and why we use such statistical tests\n"
      ]
    },
    {
      "cell_type": "code",
      "execution_count": 96,
      "metadata": {
        "id": "__cSVQusTksX"
      },
      "outputs": [],
      "source": [
        "import numpy as np\n",
        "import pandas as pd\n",
        "\n",
        "import scipy.stats as ss\n",
        "from scipy.stats import levene\n",
        "from scipy.stats import t\n",
        "\n",
        "from statsmodels.stats.multicomp import pairwise_tukeyhsd\n",
        "\n",
        "import seaborn as sn\n",
        "import matplotlib.pyplot as plt"
      ]
    },
    {
      "cell_type": "markdown",
      "metadata": {
        "id": "uY61pC_uotsO"
      },
      "source": [
        "---\n",
        "Dataset\n",
        "---\n",
        "\n",
        "The [dataset](https://www.kaggle.com/yamqwe/depression-anxiety-stress-scales) you will use in this activity was taken from Kaggle. The data was collected using the [Ten Item Personality Inventory](https://gosling.psy.utexas.edu/wp-content/uploads/2014/09/tipi.pdf).  The Ten Item Personality Inventory has participants rate how much they agreed with a given statement to determine their Big 5 Personality traits.\n",
        "\n",
        "The Big 5 Personality traits (or OCEAN) are:\n",
        "- O: Openness\n",
        "- C: Conscientiousness\n",
        "- E: Extraversion\n",
        "- A: Agreeableness\n",
        "- N: Neuroticism\n",
        "\n",
        "For more information, check out: [wiki.](https://en.wikipedia.org/wiki/Big_Five_personality_traits)"
      ]
    },
    {
      "cell_type": "markdown",
      "metadata": {
        "id": "ilY2QHOqQ5Du"
      },
      "source": [
        "Before we begin, we have to download our dataset first.\n",
        "\n",
        "If you are using Google Collab:\n",
        "Please use the csv file attached to the assignment and upload it in the google collab content drive. You can do this by:\n",
        "1. Clicking the file folder icon on the left side of your screen called \"Files\",\n",
        "2. Click the icon that looks like a piece of paper with an upward arrow inside called \"upload to session storage\"\n",
        "3. Select the csv file you downloaded from Canvas.\n",
        "\n",
        "If you access as Jupyter Notebook:\n",
        "replace \"/content/data.csv\" with the filepath of your \"data.csv\" download on your local computer."
      ]
    },
    {
      "cell_type": "code",
      "execution_count": 97,
      "metadata": {
        "id": "hZ7GIJc8VT91"
      },
      "outputs": [
        {
          "data": {
            "text/html": [
              "<div>\n",
              "<style scoped>\n",
              "    .dataframe tbody tr th:only-of-type {\n",
              "        vertical-align: middle;\n",
              "    }\n",
              "\n",
              "    .dataframe tbody tr th {\n",
              "        vertical-align: top;\n",
              "    }\n",
              "\n",
              "    .dataframe thead th {\n",
              "        text-align: right;\n",
              "    }\n",
              "</style>\n",
              "<table border=\"1\" class=\"dataframe\">\n",
              "  <thead>\n",
              "    <tr style=\"text-align: right;\">\n",
              "      <th></th>\n",
              "      <th>TIPI1</th>\n",
              "      <th>TIPI2</th>\n",
              "      <th>TIPI3</th>\n",
              "      <th>TIPI4</th>\n",
              "      <th>TIPI5</th>\n",
              "      <th>TIPI6</th>\n",
              "      <th>TIPI7</th>\n",
              "      <th>TIPI8</th>\n",
              "      <th>TIPI9</th>\n",
              "      <th>TIPI10</th>\n",
              "    </tr>\n",
              "  </thead>\n",
              "  <tbody>\n",
              "    <tr>\n",
              "      <th>0</th>\n",
              "      <td>1</td>\n",
              "      <td>5</td>\n",
              "      <td>7</td>\n",
              "      <td>7</td>\n",
              "      <td>7</td>\n",
              "      <td>7</td>\n",
              "      <td>7</td>\n",
              "      <td>5</td>\n",
              "      <td>1</td>\n",
              "      <td>1</td>\n",
              "    </tr>\n",
              "    <tr>\n",
              "      <th>1</th>\n",
              "      <td>6</td>\n",
              "      <td>5</td>\n",
              "      <td>4</td>\n",
              "      <td>7</td>\n",
              "      <td>5</td>\n",
              "      <td>4</td>\n",
              "      <td>7</td>\n",
              "      <td>7</td>\n",
              "      <td>1</td>\n",
              "      <td>5</td>\n",
              "    </tr>\n",
              "    <tr>\n",
              "      <th>2</th>\n",
              "      <td>2</td>\n",
              "      <td>5</td>\n",
              "      <td>2</td>\n",
              "      <td>2</td>\n",
              "      <td>5</td>\n",
              "      <td>6</td>\n",
              "      <td>5</td>\n",
              "      <td>5</td>\n",
              "      <td>3</td>\n",
              "      <td>2</td>\n",
              "    </tr>\n",
              "    <tr>\n",
              "      <th>3</th>\n",
              "      <td>1</td>\n",
              "      <td>1</td>\n",
              "      <td>7</td>\n",
              "      <td>4</td>\n",
              "      <td>6</td>\n",
              "      <td>4</td>\n",
              "      <td>6</td>\n",
              "      <td>1</td>\n",
              "      <td>6</td>\n",
              "      <td>1</td>\n",
              "    </tr>\n",
              "    <tr>\n",
              "      <th>4</th>\n",
              "      <td>2</td>\n",
              "      <td>5</td>\n",
              "      <td>3</td>\n",
              "      <td>6</td>\n",
              "      <td>5</td>\n",
              "      <td>5</td>\n",
              "      <td>5</td>\n",
              "      <td>6</td>\n",
              "      <td>3</td>\n",
              "      <td>3</td>\n",
              "    </tr>\n",
              "  </tbody>\n",
              "</table>\n",
              "</div>"
            ],
            "text/plain": [
              "   TIPI1  TIPI2  TIPI3  TIPI4  TIPI5  TIPI6  TIPI7  TIPI8  TIPI9  TIPI10\n",
              "0      1      5      7      7      7      7      7      5      1       1\n",
              "1      6      5      4      7      5      4      7      7      1       5\n",
              "2      2      5      2      2      5      6      5      5      3       2\n",
              "3      1      1      7      4      6      4      6      1      6       1\n",
              "4      2      5      3      6      5      5      5      6      3       3"
            ]
          },
          "execution_count": 97,
          "metadata": {},
          "output_type": "execute_result"
        }
      ],
      "source": [
        "df = pd.read_csv(\"data.csv\",sep='\\t', usecols = [\"TIPI1\", \"TIPI2\", \"TIPI3\", \"TIPI4\", \"TIPI5\", \"TIPI6\", \"TIPI7\", \"TIPI8\", \"TIPI9\", \"TIPI10\"])\n",
        "df.head()"
      ]
    },
    {
      "cell_type": "markdown",
      "metadata": {
        "id": "7V4C_uLVmoCB"
      },
      "source": [
        "\n",
        "Ten Item Personality Inventory\n",
        "Once you have downloaded the dataset, lets look at the relevant features for this exercise.\n",
        "- TIPI1 Extraverted, enthusiastic.\n",
        "- TIPI2 Critical, quarrelsome.\n",
        "- TIPI3 Dependable, self-disciplined.\n",
        "- TIPI4 Anxious, easily upset.\n",
        "- TIPI5 Open to new experiences, complex.\n",
        "- TIPI6 Reserved, quiet.\n",
        "- TIPI7 Sympathetic, warm.\n",
        "- TIPI8 Disorganized, careless.\n",
        "- TIPI9 Calm, emotionally stable.\n",
        "- TIPI10 Conventional, uncreative.\n",
        "\n",
        "The TIPI attributes were determined by gathering ratings to several statements in the format of \"I see myself as:\"\n",
        "- __6__ Extraverted, enthusiastic.\n",
        "- __8__ Critical, quarrelsome.\n",
        "- __5__ Dependable, self-disciplined.\n",
        "- __8__ Anxious, easily upset.\n",
        "- __9__ Open to new experiences, complex.\n",
        "- __9__ Reserved, quiet.\n",
        "- __9__ Sympathetic, warm.\n",
        "- __2__ Disorganized, careless.\n",
        "- __7__ Calm, emotionally stable.\n",
        "- __6__ Conventional, uncreative.\n",
        "\n",
        "Filling in \"____\" with:\n",
        "\n",
        "1 = Disagree strongly\n",
        "2 = Disagree moderately\n",
        "3 = Disagree a little\n",
        "4 = Neither agree nor disagree\n",
        "5 = Agree a little\n",
        "6 = Agree moderately\n",
        "7 = Agree strongly\n",
        "\n",
        "For those curious, here is a link for how to score the test: [how to interpret scores](https://www.psychologytoday.com/us/blog/darwins-subterranean-world/201810/take-quick-personality-test).\n",
        "\n",
        "**QUESTION 1**\n",
        "---\n",
        "Now that we know how the test works and we have our dataset, let's formulate an overall hypothesis. Recall that a hypothesis is a question or statement which you intend to provide evidence for or against.\n",
        "\n",
        "Refer to the groups in the next code cell. You can play around with any combination of groups but try to be as specific as possible and use two groups for the t-tests. As we get into ANOVAs we will incorporate more groups but for now just focus on two.\n",
        "> For example, I hypothesize that participants who rate high on extraversion will also rate high on anxiousness (group_1 and group_4).  \n",
        "\n",
        "**YOUR HYPOTHESIS**: Being extraverted is associated with being open to new experiences, using this as a guideline, we can hypothesize that participants who rate high on extraversion will also rate high on openness to new experiences (group_1 and group_5).\n",
        "\n",
        "\n",
        "Note: here is a [quideline](https://www.scribbr.com/apa-style/numbers-and-statistics/) for APA on how to report statistical test results. Refer to this throughout your study.\n"
      ]
    },
    {
      "cell_type": "code",
      "execution_count": 98,
      "metadata": {
        "id": "0mzxuuoq0PJY"
      },
      "outputs": [],
      "source": [
        "#I've grabbed all the columns for you so you dont have to.\n",
        "group_1 = df[['TIPI1']] #Extraverted, enthusiastic\n",
        "group_2 = df[['TIPI2']] #Critical, quarrelsome.\n",
        "group_3 = df[['TIPI3']] #Dependable, self-disciplined.\n",
        "group_4 = df[['TIPI4']] #Anxious, easily upset\n",
        "group_5 = df[['TIPI5']] #Open to new experiences, complex\n",
        "group_6 = df[['TIPI6']] #Reserved, quiet\n",
        "group_7 = df[['TIPI7']] #Sympathetic, warm\n",
        "group_8 = df[['TIPI8']] #Disorganized, careless\n",
        "group_9 = df[['TIPI9']] # Calm, emotionally stable\n",
        "group_10 = df[['TIPI10']] #Conventional, uncreative"
      ]
    },
    {
      "cell_type": "markdown",
      "metadata": {
        "id": "DL_JzRPQT8Wb"
      },
      "source": [
        "\n",
        "---\n",
        "Preliminaries\n",
        "---\n",
        "\n",
        "We are going to start of with some preliminary statistics. Calculate the mean and standard deviation of the groups you wish to investigate. Then plot their histograms to compare their distributions.\n"
      ]
    },
    {
      "cell_type": "code",
      "execution_count": 99,
      "metadata": {
        "id": "y918ma9DnBIM"
      },
      "outputs": [
        {
          "name": "stdout",
          "output_type": "stream",
          "text": [
            "the mean of X is TIPI1    3.786097\n",
            "dtype: float64 \n",
            "the mean of Y is TIPI5    4.934331\n",
            "dtype: float64\n",
            "the standard deviation of X is TIPI1    1.902671\n",
            "dtype: float64 \n",
            "the standard deviation of Y is TIPI5    1.722929\n",
            "dtype: float64\n"
          ]
        }
      ],
      "source": [
        "#Replace X and Y with the groups that you would like to investigate. See how their means compare\n",
        "X = group_1\n",
        "Y = group_5\n",
        "mean_1 = X.mean()\n",
        "mean_2 = Y.mean()\n",
        "std_1 = X.std()\n",
        "std_2 = Y.std()\n",
        "print(f\"the mean of X is {mean_1} \\nthe mean of Y is {mean_2}\")\n",
        "print(f\"the standard deviation of X is {std_1} \\nthe standard deviation of Y is {std_2}\")"
      ]
    },
    {
      "cell_type": "code",
      "execution_count": 100,
      "metadata": {
        "id": "seUVKQQVjViR"
      },
      "outputs": [
        {
          "data": {
            "text/plain": [
              "array([[<Axes: title={'center': 'TIPI1'}>]], dtype=object)"
            ]
          },
          "execution_count": 100,
          "metadata": {},
          "output_type": "execute_result"
        },
        {
          "data": {
            "image/png": "[encoded data removed]",
            "text/plain": [
              "<Figure size 640x480 with 1 Axes>"
            ]
          },
          "metadata": {},
          "output_type": "display_data"
        }
      ],
      "source": [
        "X.hist(bins=7) #replace X with a column from the dataset to see its distribution\n",
        "#Complete the plot: What 3 compenets is this plot missing?"
      ]
    },
    {
      "cell_type": "code",
      "execution_count": 101,
      "metadata": {
        "id": "5StGKx3BzE-p"
      },
      "outputs": [
        {
          "data": {
            "text/plain": [
              "array([[<Axes: title={'center': 'TIPI5'}>]], dtype=object)"
            ]
          },
          "execution_count": 101,
          "metadata": {},
          "output_type": "execute_result"
        },
        {
          "data": {
            "image/png": "[encoded data removed]",
            "text/plain": [
              "<Figure size 640x480 with 1 Axes>"
            ]
          },
          "metadata": {},
          "output_type": "display_data"
        }
      ],
      "source": [
        "Y.hist(bins=7)  #replace X with a column from the dataset to see its distribution\n",
        "#Complete the plot: What 3 compenets is this plot missing?"
      ]
    },
    {
      "cell_type": "markdown",
      "metadata": {
        "id": "jAGARA6Yn7nL"
      },
      "source": [
        "---\n",
        "Equal Variance Test\n",
        "---\n",
        "In order to do a independent t-test we need to first meet [two assumptions](https://blog.minitab.com/en/quality-business/common-assumptions-about-data-part-2-normality-and-equal-variance): (1) normal distribution and (2) equal variance.\n",
        "> There are other assumptions that must be met, but the above two are most important for our purposes. You can read more about the assumptions [here](https://www.investopedia.com/ask/answers/073115/what-assumptions-are-made-when-conducting-ttest.asp#:~:text=A%20t%2Dtest%20is%20a,on%20a%20sample%20of%20data.&text=Among%20these%20assumptions%2C%20the%20data,must%20follow%20a%20normal%20distribution.)\n",
        "\n",
        "Normal distribution is where our data falls into a bell-shaped curve (or distribution). Although there are mathematically sound ways to test for normal distribution, for our purposes using the above histrogram plots provides enough information. The histograms above should tell us whether or not our population samples are normally distributed if they fall into a bell-shaped distribution or there are left/right skewed.\n",
        "> For more information check out:\n",
        "> 1. [student t-distribution](https://en.wikipedia.org/wiki/Student%27s_t-distribution)\n",
        "> 2. [normal distribution](https://en.wikipedia.org/wiki/Normal_distribution)\n",
        "> 3. [skewness](https://www.investopedia.com/terms/s/skewness.asp)\n",
        "\n",
        "In addition to normal distribution is equal variance. Variance is a statistical quality that informs us about the spread of our data. Equal variance checks to see if two populations have the same spread. For our purposes we wont get in-depth on how to calculate equal variance tests by hand, but checking to see if our two populations' standard deviations are similar will suffice.\n",
        "> Using Levene's test we can also confirm if our two populations have equal variance.\n",
        "\n",
        "**QUESTION** 2:\n",
        "---\n",
        "\n",
        "\n",
        " Are the above attributes normally distributed?\n",
        "\n",
        "**Your Answer:**\n",
        "No, a normal distribution is a bell-shaped curve. The histograms above show that the distributions are not bell-shaped. TIP1 has the closest resemblance to a normal distribution, but it is still not a perfect bell-shaped curve. TIP5 has an ascending curve which is not a normal distribution.\n",
        "\n",
        "> NOTE: don't worry too much if they arent normally distributed. Statistical tests are quite robust to skewed and non-normal data. This is not true, however, for small datasets. Keep that in mind!\n",
        "\n",
        "**QUESTION** 3:\n",
        "---\n",
        "\n",
        "\n",
        "\n",
        "Another assumption of t-tests of two groups is that they have equal variance. Do the above distributions have equal variance?\n",
        "\n",
        "**Your Answer:**\n",
        "Variance is a statistical quality that informs us about the spread of our data. Equal variance checks to see if two populations have the same spread. In TIP1, the spread is quite uniform except for the first column, however the ascending curve in TIP5 shows that the spread is not uniform. Therefore, the distributions do not have equal variance.\n",
        "\n",
        "> NOTE: don't worry too much if they don't equal variance, we have a t-test for that.\n",
        "\n"
      ]
    },
    {
      "cell_type": "markdown",
      "metadata": {
        "id": "E-9uAXdC0jU_"
      },
      "source": [
        "---\n",
        "Levene's Test for Equal Variance\n",
        "---\n",
        "Let's see if our distributions actually have equal variance. [Levene's test](https://en.wikipedia.org/wiki/Levene's_test) provides a quantitative assessment of variance amongst groups.\n",
        "\n",
        "If the returned p-value is small (<0.05) this indicates that our two populations do not have equal variance.\n",
        "\n",
        "**QUESTION 4**:\n",
        "---\n",
        "\n",
        "Note down your p-value results. Report them in your summary on the discussion board."
      ]
    },
    {
      "cell_type": "code",
      "execution_count": 102,
      "metadata": {
        "id": "4uM3NwVIj4OE"
      },
      "outputs": [
        {
          "data": {
            "text/plain": [
              "0.0"
            ]
          },
          "execution_count": 102,
          "metadata": {},
          "output_type": "execute_result"
        }
      ],
      "source": [
        "stat, p = levene(group_1.TIPI1, group_5.TIPI5) #replace X and Y with the columns you have chosen to investigate.\n",
        "p # small p-value suggests that the populations do not have equal variances."
      ]
    },
    {
      "cell_type": "markdown",
      "metadata": {
        "id": "SOg1jZg_2N86"
      },
      "source": [
        "---\n",
        "Hypothesis Testing\n",
        "---\n",
        "\n",
        "Before we continue, we need to define our alternative hypothesis and null hypothesis for t-tests. This is slightly different than our original hypothesis which we hope to answer.\n",
        "\n",
        "These hypotheses are crucial when determining t-test and ANOVA results. If we have a significant p-value, we can reject the null hypothesis and can assume that our groups selected for testing have significantly different means.\n",
        "\n",
        "For example, if we were looking at height of males versus females and our initial hypothesis is that males are taller than females, our alternative and null hypothesis would be:\n",
        "- Null: mean height between males and females are not different.\n",
        "- Alternative: mean height between males and females is significantly different.\n",
        "\n",
        "> This can be further fleshed out by indicating what direction the mean will be different in (e.g., mean height of females will be less than mean height of males).\n",
        "\n",
        "\n",
        "**QUESTION** 5:\n",
        "---\n",
        "\n",
        "\n",
        "\n",
        "**Null Hypothesis**: The mean score of extraversion and openness to new experiences are not significantly different.\n",
        "\n",
        "**Alternative Hypothesis**: The mean score of extraversion and openness to new experiences are significantly different.\n",
        "\n",
        "\n"
      ]
    },
    {
      "cell_type": "markdown",
      "metadata": {
        "id": "5WNgBxA92Yvj"
      },
      "source": [
        "---\n",
        "Independent Samples T-Test\n",
        "---\n",
        "\n"
      ]
    },
    {
      "cell_type": "markdown",
      "metadata": {
        "id": "1UrOhTveUOSV"
      },
      "source": [
        "### Two Tailed\n",
        "Two tailed t-tests test our hypothesis in two directions. For example if our hypothesis is that mean of A > or < mean of B, and we get a significant p-value then we can reject our null hypothesis that mean of A = mean of B.\n",
        "> This would essentially be testing our example of female vs. male height.\n",
        "\n",
        "For our purposes we set our significance threshold to be 0.05 for our two-tailed t-tests (and for ANOVA test - more on this later). If we get a p-value <= 0.05 we reject the null hypothesis. If we get a p-value > 0.05 we accept the null hypothesis.\n",
        "\n",
        "Below we calculate two types of t-tests by hand.\n",
        "> You will have to fill in the blanks for Welch's t-test but the student t-test is already filled in for you.\n",
        "\n",
        "The t-test used depends on whether or not you passed levene's equal variance test. If we have equal variance then we use a ordinary student t-test, whereas if we dont have equal variance we use Welch's t-test. Compare your results with the one given by the scipy package.  \n",
        "\n",
        "> Note: Given the current data is quite large, the degrees of freedom found will most likely also be large, so don't worry about finding a t-value in a t-distribution table. Scipy has a easy method of calculating this for you. However, for future reference (like for a midterm), refer to this table for finding p-values based on a t-table: https://www.tdistributiontable.com/.\n",
        "\n",
        "Also refer to page 110 for useful tips on t-tests in Practical Statistics for Data Scientist.\n",
        "\n",
        "Here are some other useful links:\n",
        "- https://machinelearningmastery.com/how-to-code-the-students-t-test-from-scratch-in-python/\n",
        "- https://pythonfordatascienceorg.wordpress.com/welch-t-test-python-pandas/\n",
        "\n",
        "\n",
        "### Student t-test\n",
        "As already mentioned, this test is used when you do have equal variance.\n",
        "\n",
        "\n",
        "t statistic:\n",
        "$t= \\frac{\\bar{x} - \\bar{y}}{\\sqrt{\\frac{σ_x}{\\sqrt{n_x}}^2+\\frac{σ_y}{\\sqrt{n_y}}^2}}$\n",
        "\n",
        "$\\bar{x}$ = mean of group X\n",
        "\n",
        "$\\bar{y}$ = mean of group Y\n",
        "\n",
        "$σ_x$ = standard deviation of group X\n",
        "\n",
        "$σ_y$ = standard deviation of group Y\n",
        "\n",
        "$n_x$ = size of group X\n",
        "\n",
        "$n_y$ = size of group Y\n",
        "\n",
        "Degrees of Freedom:\n",
        "$df = n_x + n_y - 2.0$\n"
      ]
    },
    {
      "cell_type": "code",
      "execution_count": 103,
      "metadata": {
        "id": "SUrtIfhzdFsK"
      },
      "outputs": [
        {
          "name": "stdout",
          "output_type": "stream",
          "text": [
            "t: -89.2160485124213 and and p:0.0\n",
            "reject null hypothesis\n"
          ]
        }
      ],
      "source": [
        "def t_test(data1, data2):\n",
        "  mean1, mean2 = np.mean(data1), np.mean(data2)\n",
        "  std1, std2 = np.std(data1), np.std(data2)\n",
        "  n1, n2 = len(data1), len(data2)\n",
        "  se1, se2 = std1/np.sqrt(n1), std2/np.sqrt(n2)\n",
        "  sd = np.sqrt(se1**2.0 + se2**2.0)\n",
        "  t_stat = (mean1 - mean2)/sd\n",
        "  df = n1 + n2 - 2.0\n",
        "  p_value = 2 * ss.t.sf(abs(t_stat), df)\n",
        "\n",
        "  return t_stat, p_value\n",
        "\n",
        "t_stat, p_value = t_test(X.to_numpy(), Y.to_numpy()) #replace X, Y with the columns you have chosen.\n",
        "\n",
        "print(f\"t: {t_stat} and and p:{p_value}\")\n",
        "\n",
        "if 0.05 < p_value:\n",
        "  print(\"accept null hypothesis\")\n",
        "else:\n",
        "  print(\"reject null hypothesis\")"
      ]
    },
    {
      "cell_type": "markdown",
      "metadata": {
        "id": "a3qmuA4jXOqt"
      },
      "source": [
        "### Welch's t-test\n",
        "As already mentioned this test is used when you don't have equal variance.\n",
        "\n",
        "There are slight differences to the above student t-test, which I will briefly go through.\n",
        "\n",
        "Welch's t statistic:\n",
        "$t= \\frac{\\bar{x} - \\bar{y}}{\\sqrt{\\frac{S_x}{n_x}+\\frac{S_y}{n_y}}}$\n",
        "\n",
        "$\\bar{x}$ = mean of group X\n",
        "\n",
        "$\\bar{y}$ = mean of group Y\n",
        "\n",
        "$S_x$ = variance of group X\n",
        "\n",
        "$S_y$ = variance of group Y\n",
        "\n",
        "$n_x$ = size of group X\n",
        "\n",
        "$n_y$ = size of group Y\n",
        "\n",
        "Degrees of Freedom:\n",
        "$df = \\frac{(\\frac{S_x}{n_x}+\\frac{S_y}{n_y})^2}{\\frac{\\frac{S_x}{n_x}^2}{n_x - 1}+\\frac{\\frac{S_y}{n_y}^2}{n_y - 1}}$\n",
        "\n"
      ]
    },
    {
      "cell_type": "code",
      "execution_count": 104,
      "metadata": {
        "id": "UshXwkHlK8Fi"
      },
      "outputs": [
        {
          "name": "stdout",
          "output_type": "stream",
          "text": [
            "t: -89.21492699627706 and df: 78777.32897120969, and p:0.0\n",
            "reject null hypothesis\n"
          ]
        }
      ],
      "source": [
        "def t_welch(data1, data2):\n",
        "  mean1, mean2 =  np.mean(data1), np.mean(data2) # calculate means\n",
        "  var1, var2 = np.var(data1, ddof=1), np.var(data2, ddof=1)# calculate variance\n",
        "  n1, n2 = len(data1), len(data2)\n",
        "  s_welch = np.sqrt(var1/n1 + var2/n2) #blanked here calculate the denominator of t statistic\n",
        "  t_stat = (mean1 - mean2) / s_welch\n",
        "  f_num = (var1/n1 + var2/n2) ** 2 #blanked here calculate the numerator of degrees of freedom\n",
        "  f_dem = (var1**2) / ((n1**2) * (n1-1)) + (var2**2) / ((n2**2) * (n2-1)) #blanked here calculate the denominator of degrees of freedom\n",
        "  df = f_num/f_dem\n",
        "  p_value = 2 * ss.t.sf(abs(t_stat), df)\n",
        "  return t_stat, df, p_value\n",
        "\n",
        "t_stat, df, p_value = t_welch(X.to_numpy(), Y.to_numpy())#replace X, Y with the columns you have chosen.\n",
        "\n",
        "print(f\"t: {t_stat} and df: {df}, and p:{p_value}\")\n",
        "\n",
        "if 0.05 < p_value:\n",
        "  print(\"accept null hypothesis\")\n",
        "else:\n",
        "  print(\"reject null hypothesis\")"
      ]
    },
    {
      "cell_type": "code",
      "execution_count": 105,
      "metadata": {
        "id": "CLVokpzXhQxo"
      },
      "outputs": [
        {
          "name": "stdout",
          "output_type": "stream",
          "text": [
            "TtestResult(statistic=array([-89.214927]), pvalue=array([0.]), df=array([78777.32897121]))\n",
            "reject null hypothesis\n"
          ]
        }
      ],
      "source": [
        "#replace X, Y with the columns you have chosen. Replace Z with True if you passed Levene's test, False otherwise.\n",
        "two_tailed = ss.ttest_ind(X, Y, equal_var=False)\n",
        "print(two_tailed)\n",
        "\n",
        "\n",
        "if 0.05 < two_tailed.pvalue:\n",
        "  print(\"accept null hypothesis\")\n",
        "else:\n",
        "  print(\"reject null hypothesis\")"
      ]
    },
    {
      "cell_type": "markdown",
      "metadata": {
        "id": "lAfEDBhpUKZE"
      },
      "source": [
        "### One Tailed\n",
        "One tailed t-tests test our hypothesis in one direction. For example, if our hypothesis is that Group A < B and we get a significant p-value then we can reject the null hypothesis that B <= A.\n",
        "> This would allow us to specify a direction of difference.\n",
        "\n",
        "Unfortunately, scipy does not do one-tailed t-tests. But we can use what we have previously found to approximate the p-value of a one-tailed t-test.\n",
        "\n",
        "- Hint: https://stats.oarc.ucla.edu/other/mult-pkg/faq/pvalue-htm/#:~:text=The%20easiest%20way%20to%20convert,value%20provided%20in%20the%20output."
      ]
    },
    {
      "cell_type": "code",
      "execution_count": 106,
      "metadata": {
        "id": "4apelyAUUQZN"
      },
      "outputs": [
        {
          "name": "stdout",
          "output_type": "stream",
          "text": [
            "reject null hypothesis\n"
          ]
        }
      ],
      "source": [
        "one_tailed = p_value/2 #Replace P with the value that will help use calculate a one-tailed t-test\n",
        "one_tailed\n",
        "\n",
        "if one_tailed < p_value:\n",
        "  print(\"accept null hypothesis\")\n",
        "else:\n",
        "  print(\"reject null hypothesis\")"
      ]
    },
    {
      "cell_type": "markdown",
      "metadata": {
        "id": "OsNaweX7QAjT"
      },
      "source": [
        "**QUESTION 6**\n",
        "---\n",
        "Summarize your findings from both the two-tailed and one-tailed t-test using the APA guidelines noted above.\n",
        "What do you think your results mean?\n",
        "\n",
        "**Your Answer:**\n",
        "The two-tailed t-test resulted in a p-value of 0.0, which is less than the significance threshold of 0.05. Therefore, we reject the null hypothesis and accept the alternative hypothesis. This means that the mean score of extraversion and openness to new experiences are significantly different. The one-tailed t-test resulted in a p-value of 0.0, which is less than the significance threshold of 0.05. Therefore, we reject the null hypothesis and accept the alternative hypothesis. This means that the mean score of extraversion is significantly higher than the mean score of openness to new experiences.\n",
        "\n"
      ]
    },
    {
      "cell_type": "markdown",
      "metadata": {
        "id": "EjNgrHMOkbr5"
      },
      "source": [
        "---\n",
        "One Way ANOVA\n",
        "---\n",
        "\n",
        "ANOVAs are used for when you want to test the mean of more than two groups. Here, our alternative hypothesis intends to see if at least one group mean is significantly different from the others.\n",
        "\n",
        "Here is your chance to test your alternative hypothesis with more than 2 groups. First, we need to redefine our original hypothesis. This time let's include 3 or personality trait inventories to our hypothesis.\n",
        "> For example, I hypothesize that participants who rate high on extraversion will also rate high on anxiousness and low on calmness (group_1, group_4, group_9).\n",
        "\n",
        "We will first go through each step of calculating and ANOVA and then compare our results with the ANOVA provided by statsmodel. If everything is correct you should get the same answer. You will report the results of your ANOVA test using the APA guideline above.\n",
        "\n",
        "It is important to also note that we have been discussing direction in our general hypotheses, but ANOVA and t-tests assess if population (or group) means are different. Therefore we must also redefine our Null and Alternative hypothesis.\n",
        "\n",
        "\n",
        "**QUESTION 7:**\n",
        "---\n",
        "**Null Hypothesis**:\n",
        "Now, it is hypothesized that the mean score of extraversion, anxiousness, and calmness are not significantly different.\n",
        "\n",
        "**Alternative Hypothesis**:\n",
        "It is hypothesized that the mean score of extraversion, anxiousness, and calmness are significantly different.\n",
        "\n",
        "Check out pages 118-123 on ANOVAs in Practical Statistics for Data Scientist.\n",
        "\n",
        "Here is a useful link when going through how to calculate a one-way ANOVA: https://towardsdatascience.com/1-way-anova-from-scratch-dissecting-the-anova-table-with-a-worked-example-170f4f2e58ad\n",
        "\n",
        "\n",
        "\n",
        "\n"
      ]
    },
    {
      "cell_type": "code",
      "execution_count": 107,
      "metadata": {
        "id": "JmXjKVnfEE9l"
      },
      "outputs": [
        {
          "data": {
            "text/html": [
              "<div>\n",
              "<style scoped>\n",
              "    .dataframe tbody tr th:only-of-type {\n",
              "        vertical-align: middle;\n",
              "    }\n",
              "\n",
              "    .dataframe tbody tr th {\n",
              "        vertical-align: top;\n",
              "    }\n",
              "\n",
              "    .dataframe thead th {\n",
              "        text-align: right;\n",
              "    }\n",
              "</style>\n",
              "<table border=\"1\" class=\"dataframe\">\n",
              "  <thead>\n",
              "    <tr style=\"text-align: right;\">\n",
              "      <th></th>\n",
              "      <th>attributes</th>\n",
              "      <th>rating</th>\n",
              "    </tr>\n",
              "  </thead>\n",
              "  <tbody>\n",
              "    <tr>\n",
              "      <th>0</th>\n",
              "      <td>group_1</td>\n",
              "      <td>1</td>\n",
              "    </tr>\n",
              "    <tr>\n",
              "      <th>1</th>\n",
              "      <td>group_1</td>\n",
              "      <td>6</td>\n",
              "    </tr>\n",
              "    <tr>\n",
              "      <th>2</th>\n",
              "      <td>group_1</td>\n",
              "      <td>2</td>\n",
              "    </tr>\n",
              "    <tr>\n",
              "      <th>3</th>\n",
              "      <td>group_1</td>\n",
              "      <td>1</td>\n",
              "    </tr>\n",
              "    <tr>\n",
              "      <th>4</th>\n",
              "      <td>group_1</td>\n",
              "      <td>2</td>\n",
              "    </tr>\n",
              "    <tr>\n",
              "      <th>...</th>\n",
              "      <td>...</td>\n",
              "      <td>...</td>\n",
              "    </tr>\n",
              "    <tr>\n",
              "      <th>119320</th>\n",
              "      <td>group_3</td>\n",
              "      <td>3</td>\n",
              "    </tr>\n",
              "    <tr>\n",
              "      <th>119321</th>\n",
              "      <td>group_3</td>\n",
              "      <td>5</td>\n",
              "    </tr>\n",
              "    <tr>\n",
              "      <th>119322</th>\n",
              "      <td>group_3</td>\n",
              "      <td>7</td>\n",
              "    </tr>\n",
              "    <tr>\n",
              "      <th>119323</th>\n",
              "      <td>group_3</td>\n",
              "      <td>5</td>\n",
              "    </tr>\n",
              "    <tr>\n",
              "      <th>119324</th>\n",
              "      <td>group_3</td>\n",
              "      <td>3</td>\n",
              "    </tr>\n",
              "  </tbody>\n",
              "</table>\n",
              "<p>119325 rows × 2 columns</p>\n",
              "</div>"
            ],
            "text/plain": [
              "       attributes  rating\n",
              "0         group_1       1\n",
              "1         group_1       6\n",
              "2         group_1       2\n",
              "3         group_1       1\n",
              "4         group_1       2\n",
              "...           ...     ...\n",
              "119320    group_3       3\n",
              "119321    group_3       5\n",
              "119322    group_3       7\n",
              "119323    group_3       5\n",
              "119324    group_3       3\n",
              "\n",
              "[119325 rows x 2 columns]"
            ]
          },
          "execution_count": 107,
          "metadata": {},
          "output_type": "execute_result"
        }
      ],
      "source": [
        "#RUN but ignore cell contents-> it sets up your dataset so it is easier to work with.\n",
        "total = group_1.values.tolist() + group_2.values.tolist() + group_3.values.tolist()\n",
        "total = [item for sublist in total for item in sublist]\n",
        "attributes = (['group_1'] * len(group_1)) + (['group_2'] * len(group_2)) + (['group_3'] * len(group_3))\n",
        "\n",
        "data = pd.DataFrame({'attributes': attributes, \"rating\": total})\n",
        "data"
      ]
    },
    {
      "cell_type": "markdown",
      "metadata": {
        "id": "cm41ECXbLJk6"
      },
      "source": [
        "**Step 1: Compute sum of squares total**\n",
        "\n",
        "$SST=\\sum_{i=1}^n (x_{i} - \\bar{x})^2$\n",
        "\n",
        "$\\bar{x}$ = total mean\n",
        "\n",
        "$x_{i}$ = individual scores"
      ]
    },
    {
      "cell_type": "code",
      "execution_count": 108,
      "metadata": {
        "id": "87zSwOa2INbu"
      },
      "outputs": [
        {
          "data": {
            "text/plain": [
              "423874.85904881626"
            ]
          },
          "execution_count": 108,
          "metadata": {},
          "output_type": "execute_result"
        }
      ],
      "source": [
        "#step one: compute sum of squares total\n",
        "data['overall_mean'] = data['rating'].mean()\n",
        "SST = ((data['rating'] - data['overall_mean'])**2).sum() #replace with formula for sum of squares total\n",
        "SST #this translates to the sum_sq column in the statsmodel ANOVA output."
      ]
    },
    {
      "cell_type": "markdown",
      "metadata": {
        "id": "7ihVAkL-NXbd"
      },
      "source": [
        "**Step 2: Compute Sum of Squares Residual**\n",
        "\n",
        "$SSR = \\sum_{i=1}^n (x - \\hat{x})^2$\n",
        "\n",
        "$\\hat{x}$ = group mean\n",
        "\n",
        "$x$ = total"
      ]
    },
    {
      "cell_type": "code",
      "execution_count": 109,
      "metadata": {
        "id": "lxG4_HJlIog-"
      },
      "outputs": [
        {
          "data": {
            "text/plain": [
              "405557.3620615965"
            ]
          },
          "execution_count": 109,
          "metadata": {},
          "output_type": "execute_result"
        }
      ],
      "source": [
        "#step two: Sum of Squares Residual\n",
        "# Calculate group means for each attribute\n",
        "group_means = data.groupby('attributes')['rating'].mean()\n",
        "\n",
        "# Calculate SSR\n",
        "SSR = sum(data.groupby('attributes').apply(lambda x: ((x['rating'] - group_means[x.name])**2).sum()))\n",
        "SSR"
      ]
    },
    {
      "cell_type": "markdown",
      "metadata": {
        "id": "ZXdlDIn3Oq93"
      },
      "source": [
        "**Step 3: Compute Sum of Squares Explained**\n",
        "\n",
        "$SSE=\\sum_{i=1}^n (\\bar{x} - \\hat{x})^2$"
      ]
    },
    {
      "cell_type": "code",
      "execution_count": 110,
      "metadata": {
        "id": "vImveFOpIzDU"
      },
      "outputs": [
        {
          "data": {
            "text/plain": [
              "18317.49698721976"
            ]
          },
          "execution_count": 110,
          "metadata": {},
          "output_type": "execute_result"
        }
      ],
      "source": [
        "#step three: Sum of Squares Explained\n",
        "# Overall mean\n",
        "overall_mean = data['rating'].mean()\n",
        "\n",
        "# Calculate group means\n",
        "group_means = data.groupby('attributes')['rating'].mean()\n",
        "\n",
        "# Calculate the number of observations in each group\n",
        "group_sizes = data['attributes'].value_counts()\n",
        "\n",
        "# Calculate SSE\n",
        "SSE = sum(group_sizes[group] * (group_mean - overall_mean) ** 2 for group, group_mean in group_means.items())\n",
        "SSE"
      ]
    },
    {
      "cell_type": "markdown",
      "metadata": {
        "id": "_aLQKvCGPK2e"
      },
      "source": [
        "**Step 4: Get Degrees of Freedom**\n",
        "1. DF of residual:\n",
        "  - n - number of groups\n",
        "2. DF of explained:\n",
        "  - number of groups - 1\n",
        "\n"
      ]
    },
    {
      "cell_type": "code",
      "execution_count": 111,
      "metadata": {
        "id": "7BGYCMXjI56l"
      },
      "outputs": [],
      "source": [
        "#step four: Calculate degrees of freedom\n",
        "# Number of groups\n",
        "k = data['attributes'].nunique()\n",
        "\n",
        "# Total number of observations\n",
        "N = len(data)\n",
        "\n",
        "# Degrees of Freedom Explained\n",
        "DFE = k - 1\n",
        "\n",
        "# Degrees of Freedom Residual\n",
        "DFR = N - k\n"
      ]
    },
    {
      "cell_type": "markdown",
      "metadata": {
        "id": "5PgoywPNQfL8"
      },
      "source": [
        "**Step 5: Calculate Mean Squared Residual**\n",
        "\n",
        "$MSR=\\frac{SSR}{DFR}$"
      ]
    },
    {
      "cell_type": "code",
      "execution_count": 112,
      "metadata": {
        "id": "IaZJLeFcJHKR"
      },
      "outputs": [
        {
          "data": {
            "text/plain": [
              "3.3988481760412705"
            ]
          },
          "execution_count": 112,
          "metadata": {},
          "output_type": "execute_result"
        }
      ],
      "source": [
        "#step five: calculate mean squared residual\n",
        "MSR = SSR / DFR #replace with formula for mean squared residual\n",
        "MSR"
      ]
    },
    {
      "cell_type": "markdown",
      "metadata": {
        "id": "pGFiAZ1WRJQI"
      },
      "source": [
        "**Step 6: Calculate Mean Squared Explained**\n",
        "\n",
        "$MSE=\\frac{SSE}{DFE}$"
      ]
    },
    {
      "cell_type": "code",
      "execution_count": 113,
      "metadata": {
        "id": "73xZj0rxJMzO"
      },
      "outputs": [
        {
          "data": {
            "text/plain": [
              "9158.74849360988"
            ]
          },
          "execution_count": 113,
          "metadata": {},
          "output_type": "execute_result"
        }
      ],
      "source": [
        "#step six: calculate mean squared explained\n",
        "MSE = SSE / DFE #replace with formula for mean squared explained\n",
        "MSE"
      ]
    },
    {
      "cell_type": "markdown",
      "metadata": {
        "id": "vNqfDpV-RfMM"
      },
      "source": [
        "**Step 7: F-statistic and P-value**\n",
        "\n",
        "$F=\\frac{MSE}{MSR}$\n",
        "\n",
        "For getting our p-value we use a F-distribution table. But given our DF are large we won't worry about it and will use scipy instead.\n",
        "> Note: [here](https://www.statology.org/here-is-how-to-find-the-p-value-from-the-f-distribution-table/) is a link on how to read f-distribution tables. Make sure to understand how this done."
      ]
    },
    {
      "cell_type": "code",
      "execution_count": 114,
      "metadata": {
        "id": "XGGPAbIPKxQX"
      },
      "outputs": [
        {
          "name": "stdout",
          "output_type": "stream",
          "text": [
            "F-statistic: 2694.6624324589043 and p-value: 1.1102230246251565e-16\n"
          ]
        }
      ],
      "source": [
        "#step seven: F-statistic and p-value\n",
        "F = MSE / MSR #replace with formula for F-statistic\n",
        "p_value = 1-ss.f.cdf(F, DFE, DFR)\n",
        "print(f\"F-statistic: {F} and p-value: {p_value}\")"
      ]
    },
    {
      "cell_type": "markdown",
      "metadata": {
        "id": "nbdBNR3XSMDK"
      },
      "source": [
        "Below is the statsmodel way of calculating a ANOVA. Make sure to compare your results.\n",
        "\n",
        "The first column is our degrees of freedom for explained and residual. Followed by the sum of sqaures, which is SSE and SSR. The mean squared column is our MSE and MSR values. Finally we have our F-statistic and our Probability (or p-value) of accepting the null hypothesis."
      ]
    },
    {
      "cell_type": "code",
      "execution_count": 115,
      "metadata": {
        "id": "hAnByA8DkdOY"
      },
      "outputs": [
        {
          "name": "stdout",
          "output_type": "stream",
          "text": [
            "                 df         sum_sq      mean_sq            F  PR(>F)\n",
            "explained       2.0   18317.496987  9158.748494  2694.662432     0.0\n",
            "Residual   119322.0  405557.362062     3.398848          NaN     NaN\n"
          ]
        },
        {
          "data": {
            "text/plain": [
              "F_onewayResult(statistic=array([2694.66243246]), pvalue=array([0.]))"
            ]
          },
          "execution_count": 115,
          "metadata": {},
          "output_type": "execute_result"
        }
      ],
      "source": [
        "import statsmodels.api as sm\n",
        "from statsmodels.formula.api import ols\n",
        "\n",
        "data = pd.DataFrame({'explained': attributes, \"total\": total})\n",
        "lm = ols('total ~ explained', data=data).fit()\n",
        "table = sm.stats.anova_lm(lm)\n",
        "print(table)\n",
        "\n",
        "anova = ss.f_oneway(group_1, group_2, group_3) #REPLACE letters with groups you want to investigate. NOTE: You can put in more than 3.\n",
        "anova"
      ]
    },
    {
      "cell_type": "code",
      "execution_count": 116,
      "metadata": {
        "id": "8zWpHxSjnFni"
      },
      "outputs": [
        {
          "data": {
            "text/html": [
              "<div>\n",
              "<style scoped>\n",
              "    .dataframe tbody tr th:only-of-type {\n",
              "        vertical-align: middle;\n",
              "    }\n",
              "\n",
              "    .dataframe tbody tr th {\n",
              "        vertical-align: top;\n",
              "    }\n",
              "\n",
              "    .dataframe thead th {\n",
              "        text-align: right;\n",
              "    }\n",
              "</style>\n",
              "<table border=\"1\" class=\"dataframe\">\n",
              "  <thead>\n",
              "    <tr style=\"text-align: right;\">\n",
              "      <th></th>\n",
              "      <th>group</th>\n",
              "      <th>score</th>\n",
              "    </tr>\n",
              "  </thead>\n",
              "  <tbody>\n",
              "    <tr>\n",
              "      <th>0</th>\n",
              "      <td>TIPI1</td>\n",
              "      <td>1</td>\n",
              "    </tr>\n",
              "    <tr>\n",
              "      <th>1</th>\n",
              "      <td>TIPI2</td>\n",
              "      <td>5</td>\n",
              "    </tr>\n",
              "    <tr>\n",
              "      <th>2</th>\n",
              "      <td>TIPI3</td>\n",
              "      <td>7</td>\n",
              "    </tr>\n",
              "    <tr>\n",
              "      <th>3</th>\n",
              "      <td>TIPI4</td>\n",
              "      <td>7</td>\n",
              "    </tr>\n",
              "    <tr>\n",
              "      <th>4</th>\n",
              "      <td>TIPI5</td>\n",
              "      <td>7</td>\n",
              "    </tr>\n",
              "    <tr>\n",
              "      <th>...</th>\n",
              "      <td>...</td>\n",
              "      <td>...</td>\n",
              "    </tr>\n",
              "    <tr>\n",
              "      <th>397745</th>\n",
              "      <td>TIPI6</td>\n",
              "      <td>3</td>\n",
              "    </tr>\n",
              "    <tr>\n",
              "      <th>397746</th>\n",
              "      <td>TIPI7</td>\n",
              "      <td>5</td>\n",
              "    </tr>\n",
              "    <tr>\n",
              "      <th>397747</th>\n",
              "      <td>TIPI8</td>\n",
              "      <td>5</td>\n",
              "    </tr>\n",
              "    <tr>\n",
              "      <th>397748</th>\n",
              "      <td>TIPI9</td>\n",
              "      <td>1</td>\n",
              "    </tr>\n",
              "    <tr>\n",
              "      <th>397749</th>\n",
              "      <td>TIPI10</td>\n",
              "      <td>2</td>\n",
              "    </tr>\n",
              "  </tbody>\n",
              "</table>\n",
              "<p>397750 rows × 2 columns</p>\n",
              "</div>"
            ],
            "text/plain": [
              "         group  score\n",
              "0        TIPI1      1\n",
              "1        TIPI2      5\n",
              "2        TIPI3      7\n",
              "3        TIPI4      7\n",
              "4        TIPI5      7\n",
              "...        ...    ...\n",
              "397745   TIPI6      3\n",
              "397746   TIPI7      5\n",
              "397747   TIPI8      5\n",
              "397748   TIPI9      1\n",
              "397749  TIPI10      2\n",
              "\n",
              "[397750 rows x 2 columns]"
            ]
          },
          "execution_count": 116,
          "metadata": {},
          "output_type": "execute_result"
        }
      ],
      "source": [
        "#NOTE: run cell but can ignore contents. This is for the next step.\n",
        "df = pd.read_csv(\"data.csv\",sep='\\t', usecols = [\"TIPI1\", \"TIPI2\", \"TIPI3\", \"TIPI4\", \"TIPI5\", \"TIPI6\", \"TIPI7\", \"TIPI8\", \"TIPI9\", \"TIPI10\"])\n",
        "df.head()\n",
        "df2 = df.stack().to_frame().reset_index()\n",
        "df_tukey = pd.DataFrame(columns=[\"group\",\"score\"])\n",
        "df_tukey[\"group\"] = df2[\"level_1\"]\n",
        "df_tukey[\"score\"] = df2[0]\n",
        "df_tukey"
      ]
    },
    {
      "cell_type": "markdown",
      "metadata": {
        "id": "_XoptYAuTqzc"
      },
      "source": [
        "\n",
        "**QUESTION 7:**\n",
        "---\n",
        "Remember to note down your findings from your ANOVA. Make sure to refer to the APA reporting guidelines.\n",
        "\n",
        "Did you find anything interesting? What do you think your results mean?\n",
        "\n",
        "**Your Answer:**\n",
        "TIPI1 has a score of 1, while TIPI2 has a score of 5. This value is less than the significance threshold of 0.05, so we reject the null hypothesis and accept the alternative hypothesis. This means that the mean score of extraversion, anxiousness, and calmness are significantly different. This is interesting because it shows that the mean scores of these three personality traits are significantly different from each other. This means that the mean score of extraversion is significantly higher than the mean score of anxiousness and calmness. The mean score of anxiousness is significantly higher than the mean score of calmness."
      ]
    },
    {
      "cell_type": "markdown",
      "metadata": {
        "id": "xQYMaNxfsa28"
      },
      "source": [
        "---\n",
        "### Pairwise Tukey Test\n",
        "If you noticed, although we get a p-value from the above ANOVA test, it does not tell us what specific groups were significantly different.\n",
        "\n",
        "Running a pairwise tukey test lets us see which groups actually differed significantly and their corresponding p-values.\n"
      ]
    },
    {
      "cell_type": "code",
      "execution_count": 117,
      "metadata": {
        "id": "ySsSogHglX4H"
      },
      "outputs": [
        {
          "name": "stdout",
          "output_type": "stream",
          "text": [
            "        group  score\n",
            "0       TIPI1      1\n",
            "4       TIPI5      7\n",
            "8       TIPI9      1\n",
            "10      TIPI1      6\n",
            "14      TIPI5      5\n",
            "...       ...    ...\n",
            "397734  TIPI5      3\n",
            "397738  TIPI9      3\n",
            "397740  TIPI1      6\n",
            "397744  TIPI5      6\n",
            "397748  TIPI9      1\n",
            "\n",
            "[119325 rows x 2 columns]\n",
            "Multiple Comparison of Means - Tukey HSD, FWER=0.05\n",
            "===================================================\n",
            "group1 group2 meandiff p-adj  lower   upper  reject\n",
            "---------------------------------------------------\n",
            " TIPI1  TIPI5   1.1482   0.0   1.118  1.1785   True\n",
            " TIPI1  TIPI9  -0.1366   0.0 -0.1668 -0.1063   True\n",
            " TIPI5  TIPI9  -1.2848   0.0 -1.3151 -1.2546   True\n",
            "---------------------------------------------------\n"
          ]
        }
      ],
      "source": [
        "df_tukey = df_tukey.loc[df_tukey['group'].isin(['TIPI1', 'TIPI5', 'TIPI9'])] #REPLACE letters with your groups. Note: there must be three or more groups.\n",
        "print(df_tukey)\n",
        "tukey = pairwise_tukeyhsd(endog=df_tukey['score'],\n",
        "                          groups=df_tukey['group'],\n",
        "                          alpha=0.05)\n",
        "print(tukey)"
      ]
    },
    {
      "cell_type": "markdown",
      "metadata": {
        "id": "64n_VXujT4-c"
      },
      "source": [
        "\n",
        "\n",
        "**QUESTION 8:**\n",
        "---\n",
        "Note down your findings of the pairwise Tukey test. Try formulating what you think this means before moving on to the next (final) step.\n",
        "        group  score\n",
        "0       TIPI1      1\n",
        "4       TIPI5      7\n",
        "8       TIPI9      1\n",
        "10      TIPI1      6\n",
        "14      TIPI5      5\n",
        "...       ...    ...\n",
        "397734  TIPI5      3\n",
        "397738  TIPI9      3\n",
        "397740  TIPI1      6\n",
        "397744  TIPI5      6\n",
        "397748  TIPI9      1\n",
        "\n",
        "[119325 rows x 2 columns]\n",
        "Multiple Comparison of Means - Tukey HSD, FWER=0.05\n",
        "===================================================\n",
        "group1 group2 meandiff p-adj  lower   upper  reject\n",
        "---------------------------------------------------\n",
        " TIPI1  TIPI5   1.1482   0.0   1.118  1.1785   True\n",
        " TIPI1  TIPI9  -0.1366   0.0 -0.1668 -0.1063   True\n",
        " TIPI5  TIPI9  -1.2848   0.0 -1.3151 -1.2546   True\n",
        "---------------------------------------------------\n",
        "\n",
        "Formulating the data, we can see that the mean score of TIPI1 is significantly different from the mean score of TIPI5 and TIPI9. The mean score of TIPI5 is significantly different from the mean score of TIPI9. This means that the mean scores of these three personality traits are significantly different from each other. This is interesting because it shows that the mean scores of these three personality traits are significantly different from each other. This means that the mean score of TIPI1 is significantly higher than the mean score of TIPI5 and TIPI9. The mean score of TIPI5 is significantly higher than the mean score of TIPI9."
      ]
    },
    {
      "cell_type": "markdown",
      "metadata": {
        "id": "a7qxmDNptwdc"
      },
      "source": [
        "---\n",
        "Correlation\n",
        "---"
      ]
    },
    {
      "cell_type": "markdown",
      "metadata": {
        "id": "thxPpBwGuwlH"
      },
      "source": [
        "> NOTE: correlation ≠ causation\n",
        "\n",
        "The final question is about correlation. Correlation gives us a numeric values between -1 and 1 to quantify the strength and direction of a given relationship between two attributes. A value of 0 means there is no relationship, whereas a value of ±1 means a perfect relationship. The ± indicates what direction the relationships are in. For example, if you see a correlation value of -0.5 we can see that this relationship is moderatly negatively correlated. Meaning that as one attributes' values go up in value the other attributes' values go down. For positive correlation, the values go up/down together.\n",
        "\n",
        "Correlation values also range in slight/weak, moderate, or strong correlated values. Thresholds tend to be dependent on the user's preference or field standards but usually the ranges are:\n",
        "- ±0.1 to ±0.3 = slightly correlated\n",
        "- ±0.4 to ±0.6 = moderatly correlated\n",
        "- ±0.7 to ±1.0 = strongly correlated\n",
        "\n",
        "Below we will just be using pandas built in correlation function. This function also allows us to specify what correlation we want to conduct (e.g., pearson, spearman, etc).\n",
        "\n",
        "You can replace the X and Y variables with the groups you wish to see to provide evidence for your first hypothesis that you made at the very beginning. Or you can put in additional groups to provide evidence for your second hypothesis that you made for the ANOVA analysis. If you want to see the entire table you can also just put in df.corr().\n",
        "\n"
      ]
    },
    {
      "cell_type": "code",
      "execution_count": 128,
      "metadata": {
        "id": "KSrWjoBjtykM"
      },
      "outputs": [
        {
          "data": {
            "text/html": [
              "<div>\n",
              "<style scoped>\n",
              "    .dataframe tbody tr th:only-of-type {\n",
              "        vertical-align: middle;\n",
              "    }\n",
              "\n",
              "    .dataframe tbody tr th {\n",
              "        vertical-align: top;\n",
              "    }\n",
              "\n",
              "    .dataframe thead th {\n",
              "        text-align: right;\n",
              "    }\n",
              "</style>\n",
              "<table border=\"1\" class=\"dataframe\">\n",
              "  <thead>\n",
              "    <tr style=\"text-align: right;\">\n",
              "      <th></th>\n",
              "      <th>TIPI1</th>\n",
              "      <th>TIPI5</th>\n",
              "    </tr>\n",
              "  </thead>\n",
              "  <tbody>\n",
              "    <tr>\n",
              "      <th>TIPI1</th>\n",
              "      <td>1.000000</td>\n",
              "      <td>0.354404</td>\n",
              "    </tr>\n",
              "    <tr>\n",
              "      <th>TIPI5</th>\n",
              "      <td>0.354404</td>\n",
              "      <td>1.000000</td>\n",
              "    </tr>\n",
              "  </tbody>\n",
              "</table>\n",
              "</div>"
            ],
            "text/plain": [
              "          TIPI1     TIPI5\n",
              "TIPI1  1.000000  0.354404\n",
              "TIPI5  0.354404  1.000000"
            ]
          },
          "execution_count": 128,
          "metadata": {},
          "output_type": "execute_result"
        }
      ],
      "source": [
        "#REPLACE X and Y with the attributes you have chosen to investigate.\n",
        "#You can also specify more attributes or use df.corr() to see the entire dataset.\n",
        "correlations = df[['TIPI1', 'TIPI5']].corr(method = 'pearson')\n",
        "correlations"
      ]
    },
    {
      "cell_type": "markdown",
      "metadata": {
        "id": "Zcq074v3Udtd"
      },
      "source": [
        "\n",
        "**QUESTION 9:**\n",
        "---\n",
        "\n",
        "Once again note down your findings. What do you think they mean and do they provide evidence towards one of your original hypotheses?\n",
        "\n",
        "TIPI1\tTIPI5\n",
        "TIPI1\t1.000000\t0.354404\n",
        "TIPI5\t0.354404\t1.000000\n",
        "\n",
        " \n",
        " Noting down the correlation between TIPI1 and TIPI5, we can see that the correlation is 0.354404. This means that the relationship between TIPI1 and TIPI5 is moderately correlated. This means that as the score of TIPI1 increases, the score of TIPI5 also increases. This provides evidence towards the original hypothesis that participants who rate high on extraversion will also rate high on openness to new experiences.\n"
      ]
    },
    {
      "cell_type": "markdown",
      "metadata": {
        "id": "JJcUwEJRPLH8"
      },
      "source": [
        "**QUESTION 10 (Optional):**\n",
        "---\n",
        "We can use a heatmap to enhance the visual experience of our correlation tables. Use the heatmap as part of your summary on the discussion board for this exercise."
      ]
    },
    {
      "cell_type": "code",
      "execution_count": null,
      "metadata": {
        "id": "brkJ4zg0t9-O"
      },
      "outputs": [],
      "source": [
        "sn.set(rc={'figure.figsize':(11.7,8.27)})\n",
        "sn.heatmap(correlations, annot=True, vmin=-1, vmax=1)\n",
        "plt.show()"
      ]
    },
    {
      "cell_type": "markdown",
      "metadata": {
        "id": "ZrMIzQ57TMw6"
      },
      "source": [
        "**QUESTION** 11 (Optional):\n",
        "---\n",
        "Currently this survey was conducted as a stand alone experiment. What if a similar Likert scale survey was part of a broader HRI experiment? It could be used to assess the role a robot could play in personality traits or other factors.\n",
        "\n",
        "How could you use this as a measure in this HRI study? What could you measure? Is this measure a independent or dependent variable? Would this be a subjective measure or a behavioral measure? What would be the goal of your overall study?\n",
        "\n",
        "- **Your Answer**:"
      ]
    },
    {
      "cell_type": "code",
      "execution_count": null,
      "metadata": {
        "id": "RtCUXXZRb9Qr"
      },
      "outputs": [],
      "source": []
    }
  ],
  "metadata": {
    "colab": {
      "collapsed_sections": [
        "jAGARA6Yn7nL",
        "E-9uAXdC0jU_",
        "SOg1jZg_2N86",
        "cm41ECXbLJk6",
        "7ihVAkL-NXbd",
        "ZXdlDIn3Oq93",
        "_aLQKvCGPK2e",
        "5PgoywPNQfL8",
        "pGFiAZ1WRJQI",
        "vNqfDpV-RfMM",
        "_XoptYAuTqzc",
        "64n_VXujT4-c",
        "Zcq074v3Udtd"
      ],
      "provenance": []
    },
    "kernelspec": {
      "display_name": "Python 3",
      "language": "python",
      "name": "python3"
    },
    "language_info": {
      "codemirror_mode": {
        "name": "ipython",
        "version": 3
      },
      "file_extension": ".py",
      "mimetype": "text/x-python",
      "name": "python",
      "nbconvert_exporter": "python",
      "pygments_lexer": "ipython3",
      "version": "3.12.1"
    }
  },
  "nbformat": 4,
  "nbformat_minor": 0
}
